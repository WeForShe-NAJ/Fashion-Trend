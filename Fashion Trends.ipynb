{
 "cells": [
  {
   "cell_type": "code",
   "execution_count": 28,
   "id": "0476f3cc",
   "metadata": {},
   "outputs": [],
   "source": [
    "import pandas as pd\n",
    "import numpy as np\n",
    "import seaborn as sns\n",
    "import matplotlib.pyplot as plt"
   ]
  },
  {
   "cell_type": "code",
   "execution_count": 29,
   "id": "83875be1",
   "metadata": {},
   "outputs": [],
   "source": [
    "df=pd.read_csv('saree1.csv')\n",
    "\n"
   ]
  },
  {
   "cell_type": "code",
   "execution_count": 30,
   "id": "e2713298",
   "metadata": {},
   "outputs": [
    {
     "data": {
      "text/html": [
       "<div>\n",
       "<style scoped>\n",
       "    .dataframe tbody tr th:only-of-type {\n",
       "        vertical-align: middle;\n",
       "    }\n",
       "\n",
       "    .dataframe tbody tr th {\n",
       "        vertical-align: top;\n",
       "    }\n",
       "\n",
       "    .dataframe thead th {\n",
       "        text-align: right;\n",
       "    }\n",
       "</style>\n",
       "<table border=\"1\" class=\"dataframe\">\n",
       "  <thead>\n",
       "    <tr style=\"text-align: right;\">\n",
       "      <th></th>\n",
       "      <th>URL</th>\n",
       "      <th>Discount</th>\n",
       "      <th>Rating</th>\n",
       "      <th>Brand</th>\n",
       "      <th>Item</th>\n",
       "      <th>MRP</th>\n",
       "      <th>Reviews</th>\n",
       "    </tr>\n",
       "  </thead>\n",
       "  <tbody>\n",
       "    <tr>\n",
       "      <th>0</th>\n",
       "      <td>sarees/all+about+you/all-about-you-embroidered...</td>\n",
       "      <td>Rs. 1449</td>\n",
       "      <td>4.5</td>\n",
       "      <td>all about you</td>\n",
       "      <td>Embroidered Satin Saree</td>\n",
       "      <td>Rs. 5799</td>\n",
       "      <td>1.1k</td>\n",
       "    </tr>\n",
       "    <tr>\n",
       "      <th>1</th>\n",
       "      <td>sarees/sidhidata/sidhidata-floral-pure-georget...</td>\n",
       "      <td>Rs. 1199</td>\n",
       "      <td>3.4</td>\n",
       "      <td>Sidhidata</td>\n",
       "      <td>Floral Pure Georgette Saree</td>\n",
       "      <td>Rs. 2999</td>\n",
       "      <td>98</td>\n",
       "    </tr>\n",
       "    <tr>\n",
       "      <th>2</th>\n",
       "      <td>sarees/inddus/inddus-floral-sequins-and-thread...</td>\n",
       "      <td>Rs. 1979</td>\n",
       "      <td>4.2</td>\n",
       "      <td>Inddus</td>\n",
       "      <td>Net Saree</td>\n",
       "      <td>Rs. 6599</td>\n",
       "      <td>1.9k</td>\n",
       "    </tr>\n",
       "    <tr>\n",
       "      <th>3</th>\n",
       "      <td>sarees/sangria/sangria-black-sequinned-embelli...</td>\n",
       "      <td>Rs. 1249</td>\n",
       "      <td>3.4</td>\n",
       "      <td>Sangria</td>\n",
       "      <td>Sequinned Embellished Saree</td>\n",
       "      <td>Rs. 5049</td>\n",
       "      <td>1.1k</td>\n",
       "    </tr>\n",
       "    <tr>\n",
       "      <th>4</th>\n",
       "      <td>sarees/kasee/kasee-embellished-beads-and-stone...</td>\n",
       "      <td>Rs. 1455</td>\n",
       "      <td>4.0</td>\n",
       "      <td>kasee</td>\n",
       "      <td>Embellished Saree</td>\n",
       "      <td>Rs. 8088</td>\n",
       "      <td>3.6k</td>\n",
       "    </tr>\n",
       "  </tbody>\n",
       "</table>\n",
       "</div>"
      ],
      "text/plain": [
       "                                                 URL  Discount  Rating  \\\n",
       "0  sarees/all+about+you/all-about-you-embroidered...  Rs. 1449     4.5   \n",
       "1  sarees/sidhidata/sidhidata-floral-pure-georget...  Rs. 1199     3.4   \n",
       "2  sarees/inddus/inddus-floral-sequins-and-thread...  Rs. 1979     4.2   \n",
       "3  sarees/sangria/sangria-black-sequinned-embelli...  Rs. 1249     3.4   \n",
       "4  sarees/kasee/kasee-embellished-beads-and-stone...  Rs. 1455     4.0   \n",
       "\n",
       "           Brand                         Item       MRP Reviews  \n",
       "0  all about you      Embroidered Satin Saree  Rs. 5799    1.1k  \n",
       "1      Sidhidata  Floral Pure Georgette Saree  Rs. 2999      98  \n",
       "2         Inddus                    Net Saree  Rs. 6599    1.9k  \n",
       "3        Sangria  Sequinned Embellished Saree  Rs. 5049    1.1k  \n",
       "4          kasee            Embellished Saree  Rs. 8088    3.6k  "
      ]
     },
     "execution_count": 30,
     "metadata": {},
     "output_type": "execute_result"
    }
   ],
   "source": [
    "df.head()"
   ]
  },
  {
   "cell_type": "code",
   "execution_count": 31,
   "id": "caf9f5ee",
   "metadata": {},
   "outputs": [
    {
     "data": {
      "text/plain": [
       "(5000, 7)"
      ]
     },
     "execution_count": 31,
     "metadata": {},
     "output_type": "execute_result"
    }
   ],
   "source": [
    "df.shape"
   ]
  },
  {
   "cell_type": "code",
   "execution_count": 32,
   "id": "e8e69a6e",
   "metadata": {},
   "outputs": [
    {
     "data": {
      "text/html": [
       "<div>\n",
       "<style scoped>\n",
       "    .dataframe tbody tr th:only-of-type {\n",
       "        vertical-align: middle;\n",
       "    }\n",
       "\n",
       "    .dataframe tbody tr th {\n",
       "        vertical-align: top;\n",
       "    }\n",
       "\n",
       "    .dataframe thead th {\n",
       "        text-align: right;\n",
       "    }\n",
       "</style>\n",
       "<table border=\"1\" class=\"dataframe\">\n",
       "  <thead>\n",
       "    <tr style=\"text-align: right;\">\n",
       "      <th></th>\n",
       "      <th>URL</th>\n",
       "      <th>Discount</th>\n",
       "      <th>Rating</th>\n",
       "      <th>Brand</th>\n",
       "      <th>Item</th>\n",
       "      <th>MRP</th>\n",
       "      <th>Reviews</th>\n",
       "    </tr>\n",
       "  </thead>\n",
       "  <tbody>\n",
       "    <tr>\n",
       "      <th>0</th>\n",
       "      <td>sarees/all+about+you/all-about-you-embroidered...</td>\n",
       "      <td>Rs. 1449</td>\n",
       "      <td>4.5</td>\n",
       "      <td>all about you</td>\n",
       "      <td>Embroidered Satin Saree</td>\n",
       "      <td>Rs. 5799</td>\n",
       "      <td>1.1k</td>\n",
       "    </tr>\n",
       "    <tr>\n",
       "      <th>1</th>\n",
       "      <td>sarees/sidhidata/sidhidata-floral-pure-georget...</td>\n",
       "      <td>Rs. 1199</td>\n",
       "      <td>3.4</td>\n",
       "      <td>Sidhidata</td>\n",
       "      <td>Floral Pure Georgette Saree</td>\n",
       "      <td>Rs. 2999</td>\n",
       "      <td>98</td>\n",
       "    </tr>\n",
       "    <tr>\n",
       "      <th>2</th>\n",
       "      <td>sarees/inddus/inddus-floral-sequins-and-thread...</td>\n",
       "      <td>Rs. 1979</td>\n",
       "      <td>4.2</td>\n",
       "      <td>Inddus</td>\n",
       "      <td>Net Saree</td>\n",
       "      <td>Rs. 6599</td>\n",
       "      <td>1.9k</td>\n",
       "    </tr>\n",
       "    <tr>\n",
       "      <th>3</th>\n",
       "      <td>sarees/sangria/sangria-black-sequinned-embelli...</td>\n",
       "      <td>Rs. 1249</td>\n",
       "      <td>3.4</td>\n",
       "      <td>Sangria</td>\n",
       "      <td>Sequinned Embellished Saree</td>\n",
       "      <td>Rs. 5049</td>\n",
       "      <td>1.1k</td>\n",
       "    </tr>\n",
       "    <tr>\n",
       "      <th>4</th>\n",
       "      <td>sarees/kasee/kasee-embellished-beads-and-stone...</td>\n",
       "      <td>Rs. 1455</td>\n",
       "      <td>4.0</td>\n",
       "      <td>kasee</td>\n",
       "      <td>Embellished Saree</td>\n",
       "      <td>Rs. 8088</td>\n",
       "      <td>3.6k</td>\n",
       "    </tr>\n",
       "    <tr>\n",
       "      <th>...</th>\n",
       "      <td>...</td>\n",
       "      <td>...</td>\n",
       "      <td>...</td>\n",
       "      <td>...</td>\n",
       "      <td>...</td>\n",
       "      <td>...</td>\n",
       "      <td>...</td>\n",
       "    </tr>\n",
       "    <tr>\n",
       "      <th>4995</th>\n",
       "      <td>sarees/devatithi/devatithi-woven-design-zari-t...</td>\n",
       "      <td>Rs. 2875</td>\n",
       "      <td>NaN</td>\n",
       "      <td>DEVATITHI</td>\n",
       "      <td>Woven Design Tissue Saree</td>\n",
       "      <td>Rs. 11500</td>\n",
       "      <td>NaN</td>\n",
       "    </tr>\n",
       "    <tr>\n",
       "      <th>4996</th>\n",
       "      <td>sarees/devatithi/devatithi-floral-zari-tussar-...</td>\n",
       "      <td>Rs. 2875</td>\n",
       "      <td>NaN</td>\n",
       "      <td>DEVATITHI</td>\n",
       "      <td>Floral Tussar Saree</td>\n",
       "      <td>Rs. 11500</td>\n",
       "      <td>NaN</td>\n",
       "    </tr>\n",
       "    <tr>\n",
       "      <th>4997</th>\n",
       "      <td>sarees/devatithi/devatithi-floral-zari-tussar-...</td>\n",
       "      <td>Rs. 2875</td>\n",
       "      <td>NaN</td>\n",
       "      <td>DEVATITHI</td>\n",
       "      <td>Floral Tussar Saree</td>\n",
       "      <td>Rs. 11500</td>\n",
       "      <td>NaN</td>\n",
       "    </tr>\n",
       "    <tr>\n",
       "      <th>4998</th>\n",
       "      <td>sarees/anouk/anouk-pink--gold-toned-ethnic-mot...</td>\n",
       "      <td>Rs. 737</td>\n",
       "      <td>4.0</td>\n",
       "      <td>Anouk</td>\n",
       "      <td>Woven Design Organza Saree</td>\n",
       "      <td>Rs. 4099</td>\n",
       "      <td>55</td>\n",
       "    </tr>\n",
       "    <tr>\n",
       "      <th>4999</th>\n",
       "      <td>sarees/sangria/sangria-floral-woven-design-ban...</td>\n",
       "      <td>Rs. 868</td>\n",
       "      <td>3.7</td>\n",
       "      <td>Sangria</td>\n",
       "      <td>Woven Design Banarasi Saree</td>\n",
       "      <td>Rs. 2995</td>\n",
       "      <td>861</td>\n",
       "    </tr>\n",
       "  </tbody>\n",
       "</table>\n",
       "<p>5000 rows × 7 columns</p>\n",
       "</div>"
      ],
      "text/plain": [
       "                                                    URL  Discount  Rating  \\\n",
       "0     sarees/all+about+you/all-about-you-embroidered...  Rs. 1449     4.5   \n",
       "1     sarees/sidhidata/sidhidata-floral-pure-georget...  Rs. 1199     3.4   \n",
       "2     sarees/inddus/inddus-floral-sequins-and-thread...  Rs. 1979     4.2   \n",
       "3     sarees/sangria/sangria-black-sequinned-embelli...  Rs. 1249     3.4   \n",
       "4     sarees/kasee/kasee-embellished-beads-and-stone...  Rs. 1455     4.0   \n",
       "...                                                 ...       ...     ...   \n",
       "4995  sarees/devatithi/devatithi-woven-design-zari-t...  Rs. 2875     NaN   \n",
       "4996  sarees/devatithi/devatithi-floral-zari-tussar-...  Rs. 2875     NaN   \n",
       "4997  sarees/devatithi/devatithi-floral-zari-tussar-...  Rs. 2875     NaN   \n",
       "4998  sarees/anouk/anouk-pink--gold-toned-ethnic-mot...   Rs. 737     4.0   \n",
       "4999  sarees/sangria/sangria-floral-woven-design-ban...   Rs. 868     3.7   \n",
       "\n",
       "              Brand                         Item        MRP Reviews  \n",
       "0     all about you      Embroidered Satin Saree   Rs. 5799    1.1k  \n",
       "1         Sidhidata  Floral Pure Georgette Saree   Rs. 2999      98  \n",
       "2            Inddus                    Net Saree   Rs. 6599    1.9k  \n",
       "3           Sangria  Sequinned Embellished Saree   Rs. 5049    1.1k  \n",
       "4             kasee            Embellished Saree   Rs. 8088    3.6k  \n",
       "...             ...                          ...        ...     ...  \n",
       "4995      DEVATITHI    Woven Design Tissue Saree  Rs. 11500     NaN  \n",
       "4996      DEVATITHI          Floral Tussar Saree  Rs. 11500     NaN  \n",
       "4997      DEVATITHI          Floral Tussar Saree  Rs. 11500     NaN  \n",
       "4998          Anouk   Woven Design Organza Saree   Rs. 4099      55  \n",
       "4999        Sangria  Woven Design Banarasi Saree   Rs. 2995     861  \n",
       "\n",
       "[5000 rows x 7 columns]"
      ]
     },
     "execution_count": 32,
     "metadata": {},
     "output_type": "execute_result"
    }
   ],
   "source": [
    "df"
   ]
  },
  {
   "cell_type": "code",
   "execution_count": 33,
   "id": "f82db232",
   "metadata": {},
   "outputs": [
    {
     "data": {
      "text/plain": [
       "URL            0\n",
       "Discount     428\n",
       "Rating      1535\n",
       "Brand          0\n",
       "Item           0\n",
       "MRP          428\n",
       "Reviews     1535\n",
       "dtype: int64"
      ]
     },
     "execution_count": 33,
     "metadata": {},
     "output_type": "execute_result"
    }
   ],
   "source": [
    "#Find the null values\n",
    "df.isnull().sum()"
   ]
  },
  {
   "cell_type": "code",
   "execution_count": 34,
   "id": "266a9ebc",
   "metadata": {},
   "outputs": [
    {
     "data": {
      "text/html": [
       "<div>\n",
       "<style scoped>\n",
       "    .dataframe tbody tr th:only-of-type {\n",
       "        vertical-align: middle;\n",
       "    }\n",
       "\n",
       "    .dataframe tbody tr th {\n",
       "        vertical-align: top;\n",
       "    }\n",
       "\n",
       "    .dataframe thead th {\n",
       "        text-align: right;\n",
       "    }\n",
       "</style>\n",
       "<table border=\"1\" class=\"dataframe\">\n",
       "  <thead>\n",
       "    <tr style=\"text-align: right;\">\n",
       "      <th></th>\n",
       "      <th>Rating</th>\n",
       "    </tr>\n",
       "  </thead>\n",
       "  <tbody>\n",
       "    <tr>\n",
       "      <th>count</th>\n",
       "      <td>3465.000000</td>\n",
       "    </tr>\n",
       "    <tr>\n",
       "      <th>mean</th>\n",
       "      <td>3.961414</td>\n",
       "    </tr>\n",
       "    <tr>\n",
       "      <th>std</th>\n",
       "      <td>0.490113</td>\n",
       "    </tr>\n",
       "    <tr>\n",
       "      <th>min</th>\n",
       "      <td>1.000000</td>\n",
       "    </tr>\n",
       "    <tr>\n",
       "      <th>25%</th>\n",
       "      <td>3.700000</td>\n",
       "    </tr>\n",
       "    <tr>\n",
       "      <th>50%</th>\n",
       "      <td>4.000000</td>\n",
       "    </tr>\n",
       "    <tr>\n",
       "      <th>75%</th>\n",
       "      <td>4.300000</td>\n",
       "    </tr>\n",
       "    <tr>\n",
       "      <th>max</th>\n",
       "      <td>5.000000</td>\n",
       "    </tr>\n",
       "  </tbody>\n",
       "</table>\n",
       "</div>"
      ],
      "text/plain": [
       "            Rating\n",
       "count  3465.000000\n",
       "mean      3.961414\n",
       "std       0.490113\n",
       "min       1.000000\n",
       "25%       3.700000\n",
       "50%       4.000000\n",
       "75%       4.300000\n",
       "max       5.000000"
      ]
     },
     "execution_count": 34,
     "metadata": {},
     "output_type": "execute_result"
    }
   ],
   "source": [
    "# Look the data mathematically\n",
    "df.describe()"
   ]
  },
  {
   "cell_type": "code",
   "execution_count": 35,
   "id": "1b950918",
   "metadata": {},
   "outputs": [
    {
     "data": {
      "text/plain": [
       "113"
      ]
     },
     "execution_count": 35,
     "metadata": {},
     "output_type": "execute_result"
    }
   ],
   "source": [
    "# check if it has dublicate values\n",
    "df.duplicated().sum()"
   ]
  },
  {
   "cell_type": "code",
   "execution_count": 36,
   "id": "9e40dc5d",
   "metadata": {},
   "outputs": [],
   "source": [
    "df.drop_duplicates(inplace=True)"
   ]
  },
  {
   "cell_type": "code",
   "execution_count": 37,
   "id": "a7a7cc6c",
   "metadata": {},
   "outputs": [
    {
     "data": {
      "text/html": [
       "<div>\n",
       "<style scoped>\n",
       "    .dataframe tbody tr th:only-of-type {\n",
       "        vertical-align: middle;\n",
       "    }\n",
       "\n",
       "    .dataframe tbody tr th {\n",
       "        vertical-align: top;\n",
       "    }\n",
       "\n",
       "    .dataframe thead th {\n",
       "        text-align: right;\n",
       "    }\n",
       "</style>\n",
       "<table border=\"1\" class=\"dataframe\">\n",
       "  <thead>\n",
       "    <tr style=\"text-align: right;\">\n",
       "      <th></th>\n",
       "      <th>URL</th>\n",
       "      <th>Discount</th>\n",
       "      <th>Rating</th>\n",
       "      <th>Brand</th>\n",
       "      <th>Item</th>\n",
       "      <th>MRP</th>\n",
       "      <th>Reviews</th>\n",
       "    </tr>\n",
       "  </thead>\n",
       "  <tbody>\n",
       "    <tr>\n",
       "      <th>0</th>\n",
       "      <td>sarees/all+about+you/all-about-you-embroidered...</td>\n",
       "      <td>Rs. 1449</td>\n",
       "      <td>4.5</td>\n",
       "      <td>all about you</td>\n",
       "      <td>Embroidered Satin Saree</td>\n",
       "      <td>Rs. 5799</td>\n",
       "      <td>1.1k</td>\n",
       "    </tr>\n",
       "    <tr>\n",
       "      <th>1</th>\n",
       "      <td>sarees/sidhidata/sidhidata-floral-pure-georget...</td>\n",
       "      <td>Rs. 1199</td>\n",
       "      <td>3.4</td>\n",
       "      <td>Sidhidata</td>\n",
       "      <td>Floral Pure Georgette Saree</td>\n",
       "      <td>Rs. 2999</td>\n",
       "      <td>98</td>\n",
       "    </tr>\n",
       "    <tr>\n",
       "      <th>2</th>\n",
       "      <td>sarees/inddus/inddus-floral-sequins-and-thread...</td>\n",
       "      <td>Rs. 1979</td>\n",
       "      <td>4.2</td>\n",
       "      <td>Inddus</td>\n",
       "      <td>Net Saree</td>\n",
       "      <td>Rs. 6599</td>\n",
       "      <td>1.9k</td>\n",
       "    </tr>\n",
       "    <tr>\n",
       "      <th>3</th>\n",
       "      <td>sarees/sangria/sangria-black-sequinned-embelli...</td>\n",
       "      <td>Rs. 1249</td>\n",
       "      <td>3.4</td>\n",
       "      <td>Sangria</td>\n",
       "      <td>Sequinned Embellished Saree</td>\n",
       "      <td>Rs. 5049</td>\n",
       "      <td>1.1k</td>\n",
       "    </tr>\n",
       "    <tr>\n",
       "      <th>4</th>\n",
       "      <td>sarees/kasee/kasee-embellished-beads-and-stone...</td>\n",
       "      <td>Rs. 1455</td>\n",
       "      <td>4.0</td>\n",
       "      <td>kasee</td>\n",
       "      <td>Embellished Saree</td>\n",
       "      <td>Rs. 8088</td>\n",
       "      <td>3.6k</td>\n",
       "    </tr>\n",
       "    <tr>\n",
       "      <th>...</th>\n",
       "      <td>...</td>\n",
       "      <td>...</td>\n",
       "      <td>...</td>\n",
       "      <td>...</td>\n",
       "      <td>...</td>\n",
       "      <td>...</td>\n",
       "      <td>...</td>\n",
       "    </tr>\n",
       "    <tr>\n",
       "      <th>4995</th>\n",
       "      <td>sarees/devatithi/devatithi-woven-design-zari-t...</td>\n",
       "      <td>Rs. 2875</td>\n",
       "      <td>NaN</td>\n",
       "      <td>DEVATITHI</td>\n",
       "      <td>Woven Design Tissue Saree</td>\n",
       "      <td>Rs. 11500</td>\n",
       "      <td>NaN</td>\n",
       "    </tr>\n",
       "    <tr>\n",
       "      <th>4996</th>\n",
       "      <td>sarees/devatithi/devatithi-floral-zari-tussar-...</td>\n",
       "      <td>Rs. 2875</td>\n",
       "      <td>NaN</td>\n",
       "      <td>DEVATITHI</td>\n",
       "      <td>Floral Tussar Saree</td>\n",
       "      <td>Rs. 11500</td>\n",
       "      <td>NaN</td>\n",
       "    </tr>\n",
       "    <tr>\n",
       "      <th>4997</th>\n",
       "      <td>sarees/devatithi/devatithi-floral-zari-tussar-...</td>\n",
       "      <td>Rs. 2875</td>\n",
       "      <td>NaN</td>\n",
       "      <td>DEVATITHI</td>\n",
       "      <td>Floral Tussar Saree</td>\n",
       "      <td>Rs. 11500</td>\n",
       "      <td>NaN</td>\n",
       "    </tr>\n",
       "    <tr>\n",
       "      <th>4998</th>\n",
       "      <td>sarees/anouk/anouk-pink--gold-toned-ethnic-mot...</td>\n",
       "      <td>Rs. 737</td>\n",
       "      <td>4.0</td>\n",
       "      <td>Anouk</td>\n",
       "      <td>Woven Design Organza Saree</td>\n",
       "      <td>Rs. 4099</td>\n",
       "      <td>55</td>\n",
       "    </tr>\n",
       "    <tr>\n",
       "      <th>4999</th>\n",
       "      <td>sarees/sangria/sangria-floral-woven-design-ban...</td>\n",
       "      <td>Rs. 868</td>\n",
       "      <td>3.7</td>\n",
       "      <td>Sangria</td>\n",
       "      <td>Woven Design Banarasi Saree</td>\n",
       "      <td>Rs. 2995</td>\n",
       "      <td>861</td>\n",
       "    </tr>\n",
       "  </tbody>\n",
       "</table>\n",
       "<p>4887 rows × 7 columns</p>\n",
       "</div>"
      ],
      "text/plain": [
       "                                                    URL  Discount  Rating  \\\n",
       "0     sarees/all+about+you/all-about-you-embroidered...  Rs. 1449     4.5   \n",
       "1     sarees/sidhidata/sidhidata-floral-pure-georget...  Rs. 1199     3.4   \n",
       "2     sarees/inddus/inddus-floral-sequins-and-thread...  Rs. 1979     4.2   \n",
       "3     sarees/sangria/sangria-black-sequinned-embelli...  Rs. 1249     3.4   \n",
       "4     sarees/kasee/kasee-embellished-beads-and-stone...  Rs. 1455     4.0   \n",
       "...                                                 ...       ...     ...   \n",
       "4995  sarees/devatithi/devatithi-woven-design-zari-t...  Rs. 2875     NaN   \n",
       "4996  sarees/devatithi/devatithi-floral-zari-tussar-...  Rs. 2875     NaN   \n",
       "4997  sarees/devatithi/devatithi-floral-zari-tussar-...  Rs. 2875     NaN   \n",
       "4998  sarees/anouk/anouk-pink--gold-toned-ethnic-mot...   Rs. 737     4.0   \n",
       "4999  sarees/sangria/sangria-floral-woven-design-ban...   Rs. 868     3.7   \n",
       "\n",
       "              Brand                         Item        MRP Reviews  \n",
       "0     all about you      Embroidered Satin Saree   Rs. 5799    1.1k  \n",
       "1         Sidhidata  Floral Pure Georgette Saree   Rs. 2999      98  \n",
       "2            Inddus                    Net Saree   Rs. 6599    1.9k  \n",
       "3           Sangria  Sequinned Embellished Saree   Rs. 5049    1.1k  \n",
       "4             kasee            Embellished Saree   Rs. 8088    3.6k  \n",
       "...             ...                          ...        ...     ...  \n",
       "4995      DEVATITHI    Woven Design Tissue Saree  Rs. 11500     NaN  \n",
       "4996      DEVATITHI          Floral Tussar Saree  Rs. 11500     NaN  \n",
       "4997      DEVATITHI          Floral Tussar Saree  Rs. 11500     NaN  \n",
       "4998          Anouk   Woven Design Organza Saree   Rs. 4099      55  \n",
       "4999        Sangria  Woven Design Banarasi Saree   Rs. 2995     861  \n",
       "\n",
       "[4887 rows x 7 columns]"
      ]
     },
     "execution_count": 37,
     "metadata": {},
     "output_type": "execute_result"
    }
   ],
   "source": [
    "df"
   ]
  },
  {
   "cell_type": "code",
   "execution_count": 38,
   "id": "c9fc9e54",
   "metadata": {},
   "outputs": [
    {
     "data": {
      "text/plain": [
       "0"
      ]
     },
     "execution_count": 38,
     "metadata": {},
     "output_type": "execute_result"
    }
   ],
   "source": [
    "df.duplicated().sum()"
   ]
  },
  {
   "cell_type": "code",
   "execution_count": 39,
   "id": "e93bb760",
   "metadata": {},
   "outputs": [
    {
     "data": {
      "text/html": [
       "<div>\n",
       "<style scoped>\n",
       "    .dataframe tbody tr th:only-of-type {\n",
       "        vertical-align: middle;\n",
       "    }\n",
       "\n",
       "    .dataframe tbody tr th {\n",
       "        vertical-align: top;\n",
       "    }\n",
       "\n",
       "    .dataframe thead th {\n",
       "        text-align: right;\n",
       "    }\n",
       "</style>\n",
       "<table border=\"1\" class=\"dataframe\">\n",
       "  <thead>\n",
       "    <tr style=\"text-align: right;\">\n",
       "      <th></th>\n",
       "      <th>Rating</th>\n",
       "    </tr>\n",
       "  </thead>\n",
       "  <tbody>\n",
       "    <tr>\n",
       "      <th>Rating</th>\n",
       "      <td>1.0</td>\n",
       "    </tr>\n",
       "  </tbody>\n",
       "</table>\n",
       "</div>"
      ],
      "text/plain": [
       "        Rating\n",
       "Rating     1.0"
      ]
     },
     "execution_count": 39,
     "metadata": {},
     "output_type": "execute_result"
    }
   ],
   "source": [
    "df.corr()"
   ]
  },
  {
   "cell_type": "code",
   "execution_count": 40,
   "id": "5d635a3c",
   "metadata": {},
   "outputs": [
    {
     "name": "stderr",
     "output_type": "stream",
     "text": [
      "[nltk_data] Error loading vader_laxicon: Package 'vader_laxicon' not\n",
      "[nltk_data]     found in index\n"
     ]
    },
    {
     "data": {
      "text/plain": [
       "False"
      ]
     },
     "execution_count": 40,
     "metadata": {},
     "output_type": "execute_result"
    }
   ],
   "source": [
    "import nltk\n",
    "nltk.download('vader_laxicon')"
   ]
  },
  {
   "cell_type": "code",
   "execution_count": 41,
   "id": "e0c04c86",
   "metadata": {},
   "outputs": [
    {
     "name": "stdout",
     "output_type": "stream",
     "text": [
      "Requirement already satisfied: nltk in c:\\users\\anchal kumari\\anaconda3\\lib\\site-packages (3.6.5)Note: you may need to restart the kernel to use updated packages.\n",
      "Requirement already satisfied: click in c:\\users\\anchal kumari\\anaconda3\\lib\\site-packages (from nltk) (8.0.3)\n",
      "Requirement already satisfied: joblib in c:\\users\\anchal kumari\\anaconda3\\lib\\site-packages (from nltk) (1.1.0)\n",
      "Requirement already satisfied: regex>=2021.8.3 in c:\\users\\anchal kumari\\anaconda3\\lib\\site-packages (from nltk) (2021.8.3)\n",
      "Requirement already satisfied: tqdm in c:\\users\\anchal kumari\\anaconda3\\lib\\site-packages (from nltk) (4.62.3)\n",
      "Requirement already satisfied: colorama in c:\\users\\anchal kumari\\anaconda3\\lib\\site-packages (from click->nltk) (0.4.4)\n",
      "\n"
     ]
    }
   ],
   "source": [
    "pip install nltk"
   ]
  },
  {
   "cell_type": "code",
   "execution_count": 42,
   "id": "fe9eacf3",
   "metadata": {},
   "outputs": [
    {
     "name": "stderr",
     "output_type": "stream",
     "text": [
      "[nltk_data] Downloading package vader_lexicon to C:\\Users\\ANCHAL\n",
      "[nltk_data]     KUMARI\\AppData\\Roaming\\nltk_data...\n",
      "[nltk_data]   Package vader_lexicon is already up-to-date!\n"
     ]
    }
   ],
   "source": [
    "import nltk\n",
    "from nltk.sentiment.vader import SentimentIntensityAnalyzer\n",
    "\n",
    "# Download the VADER lexicon\n",
    "nltk.download('vader_lexicon')\n",
    "\n",
    "sid = SentimentIntensityAnalyzer()"
   ]
  },
  {
   "cell_type": "code",
   "execution_count": 43,
   "id": "d15a4714",
   "metadata": {},
   "outputs": [
    {
     "data": {
      "text/plain": [
       "{'neg': 0.0, 'neu': 0.444, 'pos': 0.556, 'compound': 0.3612}"
      ]
     },
     "execution_count": 43,
     "metadata": {},
     "output_type": "execute_result"
    }
   ],
   "source": [
    "a='i like this item'\n",
    "sid.polarity_scores(a)"
   ]
  },
  {
   "cell_type": "code",
   "execution_count": 44,
   "id": "09928237",
   "metadata": {},
   "outputs": [
    {
     "name": "stderr",
     "output_type": "stream",
     "text": [
      "C:\\Users\\ANCHAL KUMARI\\anaconda3\\lib\\site-packages\\seaborn\\_decorators.py:36: FutureWarning: Pass the following variable as a keyword arg: x. From version 0.12, the only valid positional argument will be `data`, and passing other arguments without an explicit keyword will result in an error or misinterpretation.\n",
      "  warnings.warn(\n"
     ]
    },
    {
     "data": {
      "text/plain": [
       "<AxesSubplot:xlabel='Rating', ylabel='count'>"
      ]
     },
     "execution_count": 44,
     "metadata": {},
     "output_type": "execute_result"
    },
    {
     "data": {
      "image/png": "[encoded data removed]",
      "text/plain": [
       "<Figure size 432x288 with 1 Axes>"
      ]
     },
     "metadata": {
      "needs_background": "light"
     },
     "output_type": "display_data"
    }
   ],
   "source": [
    "#EDA(Exploratory Data Analysis) on data \n",
    "# Categorical Data \n",
    "sns.countplot(df['Rating'])"
   ]
  },
  {
   "cell_type": "code",
   "execution_count": 49,
   "id": "40aeed50",
   "metadata": {},
   "outputs": [
    {
     "data": {
      "image/png": "[encoded data removed]",
      "text/plain": [
       "<Figure size 432x288 with 1 Axes>"
      ]
     },
     "metadata": {
      "needs_background": "light"
     },
     "output_type": "display_data"
    }
   ],
   "source": [
    "#Scatter Plot:\n",
    "\n",
    "#X-axis: Discount\n",
    "#Y-axis: Rating\n",
    "#Size of the points: Number of reviews\n",
    "#Color: MRP (using a color gradient to represent different price ranges)\n",
    "#This will help us see how discounts are related to ratings and how the number of reviews influences this relationship, with an additional insight into how MRP varies.\n",
    "sns.scatterplot(x='Discount', y='Rating', data=df, palette='viridis')\n",
    "plt.title('Scatter Plot of Discount vs Rating')\n",
    "plt.xlabel('Discount')\n",
    "plt.ylabel('Rating')\n",
    "\n",
    "# Show plot\n",
    "plt.show()\n"
   ]
  },
  {
   "cell_type": "code",
   "execution_count": 65,
   "id": "f695bca7",
   "metadata": {},
   "outputs": [
    {
     "name": "stderr",
     "output_type": "stream",
     "text": [
      "C:\\Users\\ANCHAL KUMARI\\anaconda3\\lib\\site-packages\\seaborn\\_decorators.py:36: FutureWarning: Pass the following variable as a keyword arg: x. From version 0.12, the only valid positional argument will be `data`, and passing other arguments without an explicit keyword will result in an error or misinterpretation.\n",
      "  warnings.warn(\n"
     ]
    },
    {
     "data": {
      "text/plain": [
       "<AxesSubplot:xlabel='Rating'>"
      ]
     },
     "execution_count": 65,
     "metadata": {},
     "output_type": "execute_result"
    },
    {
     "data": {
      "image/png": "[encoded data removed]",
      "text/plain": [
       "<Figure size 432x288 with 1 Axes>"
      ]
     },
     "metadata": {
      "needs_background": "light"
     },
     "output_type": "display_data"
    }
   ],
   "source": [
    "sns.boxplot(df['Rating'])"
   ]
  },
  {
   "cell_type": "code",
   "execution_count": 56,
   "id": "0e9d77c6",
   "metadata": {},
   "outputs": [
    {
     "data": {
      "text/plain": [
       "<AxesSubplot:xlabel='Rating', ylabel='Density'>"
      ]
     },
     "execution_count": 56,
     "metadata": {},
     "output_type": "execute_result"
    },
    {
     "data": {
      "image/png": "[encoded data removed]",
      "text/plain": [
       "<Figure size 432x288 with 1 Axes>"
      ]
     },
     "metadata": {
      "needs_background": "light"
     },
     "output_type": "display_data"
    }
   ],
   "source": [
    "sns.distplot(df['Rating'])"
   ]
  },
  {
   "cell_type": "code",
   "execution_count": 63,
   "id": "7f9c8418",
   "metadata": {},
   "outputs": [
    {
     "data": {
      "text/plain": [
       "(array([   5.,    4.,   14.,   31.,   64.,  330.,  589., 1054., 1067.,\n",
       "         222.]),\n",
       " array([1. , 1.4, 1.8, 2.2, 2.6, 3. , 3.4, 3.8, 4.2, 4.6, 5. ]),\n",
       " <BarContainer object of 10 artists>)"
      ]
     },
     "execution_count": 63,
     "metadata": {},
     "output_type": "execute_result"
    },
    {
     "data": {
      "image/png": "[encoded data removed]",
      "text/plain": [
       "<Figure size 432x288 with 1 Axes>"
      ]
     },
     "metadata": {
      "needs_background": "light"
     },
     "output_type": "display_data"
    }
   ],
   "source": [
    "plt.hist(df['Rating'])\n"
   ]
  },
  {
   "cell_type": "code",
   "execution_count": null,
   "id": "b8eed4a3",
   "metadata": {},
   "outputs": [],
   "source": []
  }
 ],
 "metadata": {
  "kernelspec": {
   "display_name": "Python 3 (ipykernel)",
   "language": "python",
   "name": "python3"
  },
  "language_info": {
   "codemirror_mode": {
    "name": "ipython",
    "version": 3
   },
   "file_extension": ".py",
   "mimetype": "text/x-python",
   "name": "python",
   "nbconvert_exporter": "python",
   "pygments_lexer": "ipython3",
   "version": "3.9.7"
  }
 },
 "nbformat": 4,
 "nbformat_minor": 5
}
